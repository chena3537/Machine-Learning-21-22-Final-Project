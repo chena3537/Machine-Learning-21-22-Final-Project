{
 "cells": [
  {
   "cell_type": "markdown",
   "id": "5dc1048b",
   "metadata": {},
   "source": [
    "## Facial Expression Recognition Using Convolutional Neural Networks"
   ]
  },
  {
   "cell_type": "code",
   "execution_count": 4,
   "id": "90f64bd1",
   "metadata": {},
   "outputs": [],
   "source": [
    "import numpy as np\n",
    "from numpy import reshape\n",
    "import pandas as pd\n",
    "import matplotlib.pyplot as plt\n",
    "%matplotlib inline\n",
    "from keras.optimizers import SGD\n",
    "from keras.datasets import cifar10\n",
    "from keras.models import Sequential\n",
    "from keras.utils import np_utils as utils\n",
    "from keras.layers import Dropout, Dense, Flatten\n",
    "from keras.layers.convolutional import Conv2D, MaxPooling2D\n",
    "from sklearn.model_selection import train_test_split\n",
    "from sklearn.metrics import classification_report"
   ]
  },
  {
   "cell_type": "markdown",
   "id": "d43e9dd7",
   "metadata": {},
   "source": [
    "### Intro to neural networks\n",
    "\n",
    "Inspired by the network of neurons in the brain, neural networks are comprised of layers of nodes: an input layer, one or more hidden layers, and an output layer. Each node connects to another and has an associated weight and threshold. If the output of any individual node is above the specified threshold value, that node is activated, sending data to the next layer of the network. Otherwise, no data is passed along to the next layer of the network. During training, the weights of each node are adjusted using backpropagation and gradient descent to minimize the cost function.\n",
    "\n",
    "<img src=\"images/unnamed (2).png\" width=500>\n",
    "\n",
    "Convolutional neural networks are a type of neural network that are able to identify certain features/aspects of an image. CNNs use a basic neural network to classify the input but use additional convolution and pooling layers to alter the input before it is fed into the neural network. The convolutional and pooling layers allow the network to extract the important features while reducing dimensionality to avoid overfitting and to save computational power.\n",
    "\n",
    "A convolutional layer has several filters that do the convolutional operation. They are based on the discrete convolution of a small kernel k with a bidimensional input, and this input can be the output of another convolutional layer. The Kernel shifts across the input matrix, every time performing a matrix multiplication operation between the weights of the kernel and the portion of the input matrix over which the kernel is hovering:\n",
    "\n",
    "<img src=\"images/unnamed (1).png\" width=500>\n",
    "\n",
    "Pooling layers serve the purpose of reducing dimensionality as well as summarizing the features in a given region so the model is less sensitive to small variance in the positioning of features. \n",
    "\n",
    "There are two types of Pooling: \n",
    "- Max Pooling returns the maximum value from the portion of the image covered by the pool.\n",
    "- Average Pooling returns the average of all the values from the portion of the image covered by the pool.\n",
    "\n",
    "<img src=\"images/1_KQIEqhxzICU7thjaQBfPBQ.png\" width=500>\n",
    "\n",
    "Convolution and pooling layers work together to extract the dominant features of an image while reducing dimensionality and decrease computational expenses and overfitting."
   ]
  },
  {
   "cell_type": "markdown",
   "id": "c8d31ddb",
   "metadata": {},
   "source": [
    "### Dataset\n",
    "\n",
    "The dataset I used to train a CNN was from the Kaggle Facial Expression Recognition challenge from 2013. The dataset contains 28,709 images represented as a matrix with each pixel’s corresponding grayscale value. The dataset has seven classes: 0=Angry, 1=Disgust, 2=Fear, 3=Happy, 4=Sad, 5=Surprise, 6=Neutral. Example of one image:\n",
    "\n",
    "<img src=\"images/unnamed.png\" width=250>\n"
   ]
  },
  {
   "cell_type": "code",
   "execution_count": 6,
   "id": "5b9b40e7",
   "metadata": {
    "scrolled": true
   },
   "outputs": [
    {
     "data": {
      "text/html": [
       "<div>\n",
       "<style scoped>\n",
       "    .dataframe tbody tr th:only-of-type {\n",
       "        vertical-align: middle;\n",
       "    }\n",
       "\n",
       "    .dataframe tbody tr th {\n",
       "        vertical-align: top;\n",
       "    }\n",
       "\n",
       "    .dataframe thead th {\n",
       "        text-align: right;\n",
       "    }\n",
       "</style>\n",
       "<table border=\"1\" class=\"dataframe\">\n",
       "  <thead>\n",
       "    <tr style=\"text-align: right;\">\n",
       "      <th></th>\n",
       "      <th>emotion</th>\n",
       "      <th>pixels</th>\n",
       "    </tr>\n",
       "  </thead>\n",
       "  <tbody>\n",
       "    <tr>\n",
       "      <th>0</th>\n",
       "      <td>0</td>\n",
       "      <td>70 80 82 72 58 58 60 63 54 58 60 48 89 115 121...</td>\n",
       "    </tr>\n",
       "    <tr>\n",
       "      <th>1</th>\n",
       "      <td>0</td>\n",
       "      <td>151 150 147 155 148 133 111 140 170 174 182 15...</td>\n",
       "    </tr>\n",
       "    <tr>\n",
       "      <th>2</th>\n",
       "      <td>2</td>\n",
       "      <td>231 212 156 164 174 138 161 173 182 200 106 38...</td>\n",
       "    </tr>\n",
       "    <tr>\n",
       "      <th>3</th>\n",
       "      <td>4</td>\n",
       "      <td>24 32 36 30 32 23 19 20 30 41 21 22 32 34 21 1...</td>\n",
       "    </tr>\n",
       "    <tr>\n",
       "      <th>4</th>\n",
       "      <td>6</td>\n",
       "      <td>4 0 0 0 0 0 0 0 0 0 0 0 3 15 23 28 48 50 58 84...</td>\n",
       "    </tr>\n",
       "  </tbody>\n",
       "</table>\n",
       "</div>"
      ],
      "text/plain": [
       "   emotion                                             pixels\n",
       "0        0  70 80 82 72 58 58 60 63 54 58 60 48 89 115 121...\n",
       "1        0  151 150 147 155 148 133 111 140 170 174 182 15...\n",
       "2        2  231 212 156 164 174 138 161 173 182 200 106 38...\n",
       "3        4  24 32 36 30 32 23 19 20 30 41 21 22 32 34 21 1...\n",
       "4        6  4 0 0 0 0 0 0 0 0 0 0 0 3 15 23 28 48 50 58 84..."
      ]
     },
     "execution_count": 6,
     "metadata": {},
     "output_type": "execute_result"
    }
   ],
   "source": [
    "df = pd.read_csv(\"train.csv\")\n",
    "df.head()"
   ]
  },
  {
   "cell_type": "markdown",
   "id": "9d3dd800",
   "metadata": {},
   "source": [
    "Pandas dataframes have trouble interpreting values in list form and it interprets the arrays from the csv file as strings. One way to work around this is to create a function that converts the string into an array of integers. I also created a simple function that shows the images by plotting the grayscale values on a graph using matplotlib."
   ]
  },
  {
   "cell_type": "code",
   "execution_count": 8,
   "id": "cec57d21",
   "metadata": {},
   "outputs": [
    {
     "data": {
      "image/png": "[encoded data removed]",
      "text/plain": [
       "<Figure size 432x288 with 1 Axes>"
      ]
     },
     "metadata": {
      "needs_background": "light"
     },
     "output_type": "display_data"
    },
    {
     "data": {
      "image/png": "[encoded data removed]",
      "text/plain": [
       "<Figure size 432x288 with 1 Axes>"
      ]
     },
     "metadata": {
      "needs_background": "light"
     },
     "output_type": "display_data"
    },
    {
     "data": {
      "image/png": "[encoded data removed]",
      "text/plain": [
       "<Figure size 432x288 with 1 Axes>"
      ]
     },
     "metadata": {
      "needs_background": "light"
     },
     "output_type": "display_data"
    }
   ],
   "source": [
    "def convert_matrix(pixels):\n",
    "    mat = pixels.split(' ')\n",
    "    #convert each element to an integer\n",
    "    mat = np.array([int(i) for i in mat])\n",
    "    #reshape list into 2d array\n",
    "    return mat.reshape(48,48)\n",
    "\n",
    "def print_image(matrix):\n",
    "    plt.imshow(matrix, cmap=\"gray\") \n",
    "    plt.show()\n",
    "\n",
    "for i in range(3):\n",
    "    print_image(convert_matrix(df['pixels'][i]))"
   ]
  },
  {
   "cell_type": "markdown",
   "id": "15b106ce",
   "metadata": {},
   "source": [
    "The X and y sets from the dataframe must be converted into the right data types using the convert_matrix function."
   ]
  },
  {
   "cell_type": "code",
   "execution_count": 229,
   "id": "a7c515b7",
   "metadata": {},
   "outputs": [],
   "source": [
    "X = [convert_matrix(df['pixels'][i]) for i in range(len(df))]\n",
    "X = np.array(X)"
   ]
  },
  {
   "cell_type": "code",
   "execution_count": 230,
   "id": "d7d33816",
   "metadata": {},
   "outputs": [],
   "source": [
    "y = [np.array(int(emo)) for emo in df['emotion']]\n",
    "y = np.array(y)"
   ]
  },
  {
   "cell_type": "code",
   "execution_count": 253,
   "id": "1b60e9b1",
   "metadata": {},
   "outputs": [],
   "source": [
    "X_train, X_test, y_train, y_test = train_test_split(X, y, test_size=0.25, random_state=0)"
   ]
  },
  {
   "cell_type": "markdown",
   "id": "72d484bb",
   "metadata": {},
   "source": [
    "The input matrices need to be normalized and the outputs need to be converted into categorical data. For example, an output of class 3 would change from [3], to [0,0,1,0,0,0,0]."
   ]
  },
  {
   "cell_type": "code",
   "execution_count": 254,
   "id": "3103e512",
   "metadata": {},
   "outputs": [],
   "source": [
    "X_train, X_test = X_train.astype('float32')/255.0, X_test.astype('float32')/255.0\n",
    "y_train, y_test = utils.to_categorical(y_train, 7), utils.to_categorical(y_test, 7)"
   ]
  },
  {
   "cell_type": "markdown",
   "id": "b9f6adca",
   "metadata": {},
   "source": [
    "The CNN model can follow many different structures and use different combinations of convolution and pooling layers. Another important aspect of CNNs is dropout. Dropout basically randomly ignores a certain portion of the nodes of the network when training. Dropout is very important for avoiding overfitting. Below is the best CNN structure I was able to configure, however, training the model takes a very long time and adding layers, which could increase accuracy, also increasing training time. If I had more time on this project and more time to train different and more complex(more layers) CNN configurations, I believe I would be able to increase the accuracy of the model. The final fully connected layer uses a crossentropy loss function, which is usually preferrable over MSE for classification problems, and gradient descent as the optimization function. The model is trained in epochs and displays the train and test accuracy after each epoch so the progress of the training can be tracked."
   ]
  },
  {
   "cell_type": "code",
   "execution_count": 262,
   "id": "830a6dd9",
   "metadata": {},
   "outputs": [
    {
     "name": "stdout",
     "output_type": "stream",
     "text": [
      "Epoch 1/10\n",
      "673/673 [==============================] - 20361s 30s/step - loss: 1.8275 - accuracy: 0.2425 - val_loss: 1.7523 - val_accuracy: 0.2696\n",
      "Epoch 2/10\n",
      "673/673 [==============================] - 237s 353ms/step - loss: 1.7226 - accuracy: 0.3132 - val_loss: 1.6809 - val_accuracy: 0.3483\n",
      "Epoch 3/10\n",
      "673/673 [==============================] - 241s 358ms/step - loss: 1.6832 - accuracy: 0.3422 - val_loss: 1.6745 - val_accuracy: 0.3417\n",
      "Epoch 4/10\n",
      "673/673 [==============================] - 240s 357ms/step - loss: 1.6650 - accuracy: 0.3488 - val_loss: 1.6472 - val_accuracy: 0.3583\n",
      "Epoch 5/10\n",
      "673/673 [==============================] - 362s 539ms/step - loss: 1.6483 - accuracy: 0.3607 - val_loss: 1.6410 - val_accuracy: 0.3594\n",
      "Epoch 6/10\n",
      "673/673 [==============================] - 411s 612ms/step - loss: 1.6359 - accuracy: 0.3609 - val_loss: 1.6474 - val_accuracy: 0.3614\n",
      "Epoch 7/10\n",
      "673/673 [==============================] - 241s 358ms/step - loss: 1.6226 - accuracy: 0.3681 - val_loss: 1.6386 - val_accuracy: 0.3622\n",
      "Epoch 8/10\n",
      "673/673 [==============================] - 252s 375ms/step - loss: 1.6122 - accuracy: 0.3729 - val_loss: 1.6244 - val_accuracy: 0.3703\n",
      "Epoch 9/10\n",
      "673/673 [==============================] - 241s 358ms/step - loss: 1.5997 - accuracy: 0.3814 - val_loss: 1.6241 - val_accuracy: 0.3643\n",
      "Epoch 10/10\n",
      "673/673 [==============================] - 239s 356ms/step - loss: 1.5903 - accuracy: 0.3826 - val_loss: 1.6120 - val_accuracy: 0.3690\n"
     ]
    },
    {
     "data": {
      "text/plain": [
       "<keras.callbacks.History at 0x1e704827460>"
      ]
     },
     "execution_count": 262,
     "metadata": {},
     "output_type": "execute_result"
    }
   ],
   "source": [
    "#initialize model\n",
    "model = Sequential()\n",
    "#first convolution layer with same padding\n",
    "model.add(Conv2D(48, (3, 3), input_shape=(48, 48, 1), padding='same', activation='relu'))\n",
    "model.add(Dropout(0.2))\n",
    "#second convolution layer with valid padding\n",
    "model.add(Conv2D(48, (3, 3), activation='relu', padding='valid'))\n",
    "model.add(Dropout(0.2))\n",
    "#third convolution layer with valid padding\n",
    "model.add(Conv2D(48, (3, 3), activation='relu', padding='valid'))\n",
    "#max pooling layer\n",
    "model.add(MaxPooling2D(pool_size=(2, 2)))\n",
    "model.add(Flatten())\n",
    "#fully connected layer\n",
    "model.add(Dense(512, activation='sigmoid'))\n",
    "model.add(Dropout(0.3))\n",
    "model.add(Dense(7, activation='softmax'))\n",
    "#compile the model with cross entropy loss function and gradient descent optimizer function\n",
    "model.compile(loss='categorical_crossentropy', optimizer=SGD(momentum=0.5, decay=0.0004), metrics=['accuracy'])\n",
    "model.fit(X_train, y_train, validation_data=(X_test, y_test), epochs=10,batch_size=32)"
   ]
  },
  {
   "cell_type": "markdown",
   "id": "b253c7ac",
   "metadata": {},
   "source": [
    "Final accuracy:"
   ]
  },
  {
   "cell_type": "code",
   "execution_count": 263,
   "id": "46a8b9c2",
   "metadata": {},
   "outputs": [
    {
     "name": "stdout",
     "output_type": "stream",
     "text": [
      "225/225 [==============================] - 15s 68ms/step - loss: 1.6120 - accuracy: 0.3690\n",
      "Accuracy: 0.36904430389404297\n"
     ]
    }
   ],
   "source": [
    "print(\"Accuracy:\", (model.evaluate(X_test, y_test))[1])"
   ]
  },
  {
   "cell_type": "code",
   "execution_count": null,
   "id": "8cea498f",
   "metadata": {},
   "outputs": [],
   "source": []
  }
 ],
 "metadata": {
  "kernelspec": {
   "display_name": "Python 3 (ipykernel)",
   "language": "python",
   "name": "python3"
  },
  "language_info": {
   "codemirror_mode": {
    "name": "ipython",
    "version": 3
   },
   "file_extension": ".py",
   "mimetype": "text/x-python",
   "name": "python",
   "nbconvert_exporter": "python",
   "pygments_lexer": "ipython3",
   "version": "3.8.12"
  }
 },
 "nbformat": 4,
 "nbformat_minor": 5
}
